{
  "nbformat": 4,
  "nbformat_minor": 0,
  "metadata": {
    "colab": {
      "provenance": [],
      "toc_visible": true,
      "include_colab_link": true
    },
    "kernelspec": {
      "name": "python3",
      "display_name": "Python 3"
    },
    "language_info": {
      "name": "python"
    }
  },
  "cells": [
    {
      "cell_type": "markdown",
      "metadata": {
        "id": "view-in-github",
        "colab_type": "text"
      },
      "source": [
        "<a href=\"https://colab.research.google.com/github/Danelu19/Machine-Learning-Activities/blob/main/LastLabML.ipynb\" target=\"_parent\"><img src=\"https://colab.research.google.com/assets/colab-badge.svg\" alt=\"Open In Colab\"/></a>"
      ]
    },
    {
      "cell_type": "markdown",
      "source": [
        "# K-Means"
      ],
      "metadata": {
        "id": "AcEH_3O-IZGA"
      }
    },
    {
      "cell_type": "markdown",
      "source": [
        "Importing libraries"
      ],
      "metadata": {
        "id": "U4xBYwqM8X4g"
      }
    },
    {
      "cell_type": "code",
      "execution_count": null,
      "metadata": {
        "id": "zJ9C5fM_yOuR"
      },
      "outputs": [],
      "source": [
        "from sklearn.cluster import KMeans\n",
        "import pandas as pd\n",
        "from sklearn.preprocessing import MinMaxScaler,StandardScaler,QuantileTransformer\n",
        "import matplotlib.pyplot as plt"
      ]
    },
    {
      "cell_type": "markdown",
      "source": [
        "Reading the dataset"
      ],
      "metadata": {
        "id": "stPMYoJ08W66"
      }
    },
    {
      "cell_type": "code",
      "source": [
        "url = \"https://raw.githubusercontent.com/erickedu85/dataset/master/age_income.csv\"\n",
        "df = pd.read_csv(url)"
      ],
      "metadata": {
        "id": "CtuGjxVj8aAo"
      },
      "execution_count": null,
      "outputs": []
    },
    {
      "cell_type": "markdown",
      "source": [
        "Knowing the structure and data types of the dataset"
      ],
      "metadata": {
        "id": "ARYx5pKs8rDZ"
      }
    },
    {
      "cell_type": "code",
      "source": [
        "df.info()"
      ],
      "metadata": {
        "colab": {
          "base_uri": "https://localhost:8080/"
        },
        "id": "Wgz86GGV8y0k",
        "outputId": "38fab9ef-45d6-4469-ce48-a423babeb2db"
      },
      "execution_count": null,
      "outputs": [
        {
          "output_type": "stream",
          "name": "stdout",
          "text": [
            "<class 'pandas.core.frame.DataFrame'>\n",
            "RangeIndex: 150 entries, 0 to 149\n",
            "Data columns (total 2 columns):\n",
            " #   Column            Non-Null Count  Dtype\n",
            "---  ------            --------------  -----\n",
            " 0   age               150 non-null    int64\n",
            " 1   annual_income($)  150 non-null    int64\n",
            "dtypes: int64(2)\n",
            "memory usage: 2.5 KB\n"
          ]
        }
      ]
    },
    {
      "cell_type": "markdown",
      "source": [
        "Visualizing the dataset"
      ],
      "metadata": {
        "id": "axgM9E-Y9D3G"
      }
    },
    {
      "cell_type": "code",
      "source": [
        "plt.scatter(df['age'],df['annual_income($)'])\n",
        "plt.xlabel('Age')\n",
        "plt.ylabel('Annual income ($)')"
      ],
      "metadata": {
        "colab": {
          "base_uri": "https://localhost:8080/",
          "height": 471
        },
        "id": "3Y9BqGF79L2C",
        "outputId": "37c24ec4-00ff-49c2-dbfa-3edba20f4bc5"
      },
      "execution_count": null,
      "outputs": [
        {
          "output_type": "execute_result",
          "data": {
            "text/plain": [
              "Text(0, 0.5, 'Annual income ($)')"
            ]
          },
          "metadata": {},
          "execution_count": 4
        },
        {
          "output_type": "display_data",
          "data": {
            "text/plain": [
              "<Figure size 640x480 with 1 Axes>"
            ],
            "image/png": "[encoded data removed]"
          },
          "metadata": {}
        }
      ]
    },
    {
      "cell_type": "markdown",
      "source": [
        "**Question 1**: Why use a scatterplot to visualize this dataset?\n",
        "\n",
        "It reveals the relationship between annual income and age in your data set. By employing this graphical representation, you can easily discern patterns, groups, or trends, which improves your ability to interpret the data."
      ],
      "metadata": {
        "id": "cKXi1keo9iVU"
      }
    },
    {
      "cell_type": "markdown",
      "source": [
        "Obtaining the *k* value"
      ],
      "metadata": {
        "id": "oVzN_7ju-C41"
      }
    },
    {
      "cell_type": "code",
      "source": [
        "sse = []\n",
        "k_range = range(1,11)\n",
        "for k in k_range:\n",
        "  km = KMeans(n_clusters=k)\n",
        "  km.fit(df[['age','annual_income($)']])\n",
        "  sse.append(km.inertia_)\n"
      ],
      "metadata": {
        "id": "-zrnJaxl-VAt",
        "colab": {
          "base_uri": "https://localhost:8080/"
        },
        "outputId": "559ffbcf-0ed3-4d67-f545-a2659a13ce1a"
      },
      "execution_count": null,
      "outputs": [
        {
          "output_type": "stream",
          "name": "stderr",
          "text": [
            "/usr/local/lib/python3.10/dist-packages/sklearn/cluster/_kmeans.py:870: FutureWarning: The default value of `n_init` will change from 10 to 'auto' in 1.4. Set the value of `n_init` explicitly to suppress the warning\n",
            "  warnings.warn(\n",
            "/usr/local/lib/python3.10/dist-packages/sklearn/cluster/_kmeans.py:870: FutureWarning: The default value of `n_init` will change from 10 to 'auto' in 1.4. Set the value of `n_init` explicitly to suppress the warning\n",
            "  warnings.warn(\n",
            "/usr/local/lib/python3.10/dist-packages/sklearn/cluster/_kmeans.py:870: FutureWarning: The default value of `n_init` will change from 10 to 'auto' in 1.4. Set the value of `n_init` explicitly to suppress the warning\n",
            "  warnings.warn(\n",
            "/usr/local/lib/python3.10/dist-packages/sklearn/cluster/_kmeans.py:870: FutureWarning: The default value of `n_init` will change from 10 to 'auto' in 1.4. Set the value of `n_init` explicitly to suppress the warning\n",
            "  warnings.warn(\n",
            "/usr/local/lib/python3.10/dist-packages/sklearn/cluster/_kmeans.py:870: FutureWarning: The default value of `n_init` will change from 10 to 'auto' in 1.4. Set the value of `n_init` explicitly to suppress the warning\n",
            "  warnings.warn(\n",
            "/usr/local/lib/python3.10/dist-packages/sklearn/cluster/_kmeans.py:870: FutureWarning: The default value of `n_init` will change from 10 to 'auto' in 1.4. Set the value of `n_init` explicitly to suppress the warning\n",
            "  warnings.warn(\n",
            "/usr/local/lib/python3.10/dist-packages/sklearn/cluster/_kmeans.py:870: FutureWarning: The default value of `n_init` will change from 10 to 'auto' in 1.4. Set the value of `n_init` explicitly to suppress the warning\n",
            "  warnings.warn(\n",
            "/usr/local/lib/python3.10/dist-packages/sklearn/cluster/_kmeans.py:870: FutureWarning: The default value of `n_init` will change from 10 to 'auto' in 1.4. Set the value of `n_init` explicitly to suppress the warning\n",
            "  warnings.warn(\n",
            "/usr/local/lib/python3.10/dist-packages/sklearn/cluster/_kmeans.py:870: FutureWarning: The default value of `n_init` will change from 10 to 'auto' in 1.4. Set the value of `n_init` explicitly to suppress the warning\n",
            "  warnings.warn(\n",
            "/usr/local/lib/python3.10/dist-packages/sklearn/cluster/_kmeans.py:870: FutureWarning: The default value of `n_init` will change from 10 to 'auto' in 1.4. Set the value of `n_init` explicitly to suppress the warning\n",
            "  warnings.warn(\n"
          ]
        }
      ]
    },
    {
      "cell_type": "markdown",
      "source": [
        "Visualizing the Elbow plot"
      ],
      "metadata": {
        "id": "ddeQWKzJ-3yS"
      }
    },
    {
      "cell_type": "code",
      "source": [
        "plt.plot(k_range,sse)\n",
        "plt.xlabel('K value')\n",
        "plt.ylabel('Sum of Squared Error (SSE)')"
      ],
      "metadata": {
        "colab": {
          "base_uri": "https://localhost:8080/",
          "height": 482
        },
        "id": "lJzSCTMd--JK",
        "outputId": "0fb581aa-f4fc-46c7-f3a3-b4de6ca2e5e4"
      },
      "execution_count": null,
      "outputs": [
        {
          "output_type": "execute_result",
          "data": {
            "text/plain": [
              "Text(0, 0.5, 'Sum of Squared Error (SSE)')"
            ]
          },
          "metadata": {},
          "execution_count": 6
        },
        {
          "output_type": "display_data",
          "data": {
            "text/plain": [
              "<Figure size 640x480 with 1 Axes>"
            ],
            "image/png": "[encoded data removed]"
          },
          "metadata": {}
        }
      ]
    },
    {
      "cell_type": "markdown",
      "source": [
        "Clustering"
      ],
      "metadata": {
        "id": "I5DUuxBD_X9v"
      }
    },
    {
      "cell_type": "code",
      "source": [
        "k = 3\n",
        "clustering = KMeans(n_clusters=k)\n",
        "clusters = clustering.fit_predict(df[['age','annual_income($)']])\n",
        "clusters"
      ],
      "metadata": {
        "colab": {
          "base_uri": "https://localhost:8080/"
        },
        "id": "Lk1fLuy__dNZ",
        "outputId": "fbeda365-29a5-4168-8411-e991af5cbef5"
      },
      "execution_count": null,
      "outputs": [
        {
          "output_type": "stream",
          "name": "stderr",
          "text": [
            "/usr/local/lib/python3.10/dist-packages/sklearn/cluster/_kmeans.py:870: FutureWarning: The default value of `n_init` will change from 10 to 'auto' in 1.4. Set the value of `n_init` explicitly to suppress the warning\n",
            "  warnings.warn(\n"
          ]
        },
        {
          "output_type": "execute_result",
          "data": {
            "text/plain": [
              "array([2, 2, 2, 2, 2, 2, 2, 2, 2, 2, 2, 2, 2, 2, 2, 2, 2, 2, 2, 2, 2, 2,\n",
              "       2, 2, 2, 2, 2, 2, 2, 2, 0, 0, 0, 0, 0, 0, 0, 0, 0, 0, 0, 0, 0, 0,\n",
              "       0, 0, 0, 0, 0, 0, 0, 0, 0, 0, 0, 0, 0, 0, 0, 0, 1, 1, 1, 1, 1, 1,\n",
              "       1, 1, 1, 1, 1, 1, 1, 1, 1, 1, 1, 1, 1, 1, 1, 1, 1, 1, 1, 1, 1, 1,\n",
              "       1, 1, 1, 1, 1, 1, 1, 1, 1, 1, 1, 1, 1, 1, 1, 1, 1, 1, 1, 1, 1, 1,\n",
              "       1, 1, 1, 1, 1, 1, 1, 1, 1, 1, 0, 0, 0, 0, 0, 0, 0, 0, 0, 0, 0, 0,\n",
              "       0, 0, 0, 0, 0, 0, 0, 0, 0, 0, 0, 0, 0, 0, 0, 0, 0, 0], dtype=int32)"
            ]
          },
          "metadata": {},
          "execution_count": 7
        }
      ]
    },
    {
      "cell_type": "markdown",
      "source": [
        "**Question 2**: Why the value of *k* is 3?\n",
        "\n",
        "By the Elbow method where the inflection point was precisely 3."
      ],
      "metadata": {
        "id": "26nRSYVwCbfW"
      }
    },
    {
      "cell_type": "markdown",
      "source": [
        "Adding the cluster to the dataset"
      ],
      "metadata": {
        "id": "yNvzrqNp_4eM"
      }
    },
    {
      "cell_type": "code",
      "source": [
        "df['cluster'] = clusters\n",
        "df.info()\n",
        "df.head()"
      ],
      "metadata": {
        "colab": {
          "base_uri": "https://localhost:8080/",
          "height": 380
        },
        "id": "4YfYjUIc_6yZ",
        "outputId": "c873e2ac-6f5e-4600-b3d8-51276bfebecb"
      },
      "execution_count": null,
      "outputs": [
        {
          "output_type": "stream",
          "name": "stdout",
          "text": [
            "<class 'pandas.core.frame.DataFrame'>\n",
            "RangeIndex: 150 entries, 0 to 149\n",
            "Data columns (total 3 columns):\n",
            " #   Column            Non-Null Count  Dtype\n",
            "---  ------            --------------  -----\n",
            " 0   age               150 non-null    int64\n",
            " 1   annual_income($)  150 non-null    int64\n",
            " 2   cluster           150 non-null    int32\n",
            "dtypes: int32(1), int64(2)\n",
            "memory usage: 3.1 KB\n"
          ]
        },
        {
          "output_type": "execute_result",
          "data": {
            "text/plain": [
              "   age  annual_income($)  cluster\n",
              "0   17             17123        2\n",
              "1   17             18375        2\n",
              "2   16             18557        2\n",
              "3   23             17721        2\n",
              "4   22             17291        2"
            ],
            "text/html": [
              "\n",
              "  <div id=\"df-73f855b2-147d-4c1b-ba91-4e1838041be0\" class=\"colab-df-container\">\n",
              "    <div>\n",
              "<style scoped>\n",
              "    .dataframe tbody tr th:only-of-type {\n",
              "        vertical-align: middle;\n",
              "    }\n",
              "\n",
              "    .dataframe tbody tr th {\n",
              "        vertical-align: top;\n",
              "    }\n",
              "\n",
              "    .dataframe thead th {\n",
              "        text-align: right;\n",
              "    }\n",
              "</style>\n",
              "<table border=\"1\" class=\"dataframe\">\n",
              "  <thead>\n",
              "    <tr style=\"text-align: right;\">\n",
              "      <th></th>\n",
              "      <th>age</th>\n",
              "      <th>annual_income($)</th>\n",
              "      <th>cluster</th>\n",
              "    </tr>\n",
              "  </thead>\n",
              "  <tbody>\n",
              "    <tr>\n",
              "      <th>0</th>\n",
              "      <td>17</td>\n",
              "      <td>17123</td>\n",
              "      <td>2</td>\n",
              "    </tr>\n",
              "    <tr>\n",
              "      <th>1</th>\n",
              "      <td>17</td>\n",
              "      <td>18375</td>\n",
              "      <td>2</td>\n",
              "    </tr>\n",
              "    <tr>\n",
              "      <th>2</th>\n",
              "      <td>16</td>\n",
              "      <td>18557</td>\n",
              "      <td>2</td>\n",
              "    </tr>\n",
              "    <tr>\n",
              "      <th>3</th>\n",
              "      <td>23</td>\n",
              "      <td>17721</td>\n",
              "      <td>2</td>\n",
              "    </tr>\n",
              "    <tr>\n",
              "      <th>4</th>\n",
              "      <td>22</td>\n",
              "      <td>17291</td>\n",
              "      <td>2</td>\n",
              "    </tr>\n",
              "  </tbody>\n",
              "</table>\n",
              "</div>\n",
              "    <div class=\"colab-df-buttons\">\n",
              "\n",
              "  <div class=\"colab-df-container\">\n",
              "    <button class=\"colab-df-convert\" onclick=\"convertToInteractive('df-73f855b2-147d-4c1b-ba91-4e1838041be0')\"\n",
              "            title=\"Convert this dataframe to an interactive table.\"\n",
              "            style=\"display:none;\">\n",
              "\n",
              "  <svg xmlns=\"http://www.w3.org/2000/svg\" height=\"24px\" viewBox=\"0 -960 960 960\">\n",
              "    <path d=\"M120-120v-720h720v720H120Zm60-500h600v-160H180v160Zm220 220h160v-160H400v160Zm0 220h160v-160H400v160ZM180-400h160v-160H180v160Zm440 0h160v-160H620v160ZM180-180h160v-160H180v160Zm440 0h160v-160H620v160Z\"/>\n",
              "  </svg>\n",
              "    </button>\n",
              "\n",
              "  <style>\n",
              "    .colab-df-container {\n",
              "      display:flex;\n",
              "      gap: 12px;\n",
              "    }\n",
              "\n",
              "    .colab-df-convert {\n",
              "      background-color: #E8F0FE;\n",
              "      border: none;\n",
              "      border-radius: 50%;\n",
              "      cursor: pointer;\n",
              "      display: none;\n",
              "      fill: #1967D2;\n",
              "      height: 32px;\n",
              "      padding: 0 0 0 0;\n",
              "      width: 32px;\n",
              "    }\n",
              "\n",
              "    .colab-df-convert:hover {\n",
              "      background-color: #E2EBFA;\n",
              "      box-shadow: 0px 1px 2px rgba(60, 64, 67, 0.3), 0px 1px 3px 1px rgba(60, 64, 67, 0.15);\n",
              "      fill: #174EA6;\n",
              "    }\n",
              "\n",
              "    .colab-df-buttons div {\n",
              "      margin-bottom: 4px;\n",
              "    }\n",
              "\n",
              "    [theme=dark] .colab-df-convert {\n",
              "      background-color: #3B4455;\n",
              "      fill: #D2E3FC;\n",
              "    }\n",
              "\n",
              "    [theme=dark] .colab-df-convert:hover {\n",
              "      background-color: #434B5C;\n",
              "      box-shadow: 0px 1px 3px 1px rgba(0, 0, 0, 0.15);\n",
              "      filter: drop-shadow(0px 1px 2px rgba(0, 0, 0, 0.3));\n",
              "      fill: #FFFFFF;\n",
              "    }\n",
              "  </style>\n",
              "\n",
              "    <script>\n",
              "      const buttonEl =\n",
              "        document.querySelector('#df-73f855b2-147d-4c1b-ba91-4e1838041be0 button.colab-df-convert');\n",
              "      buttonEl.style.display =\n",
              "        google.colab.kernel.accessAllowed ? 'block' : 'none';\n",
              "\n",
              "      async function convertToInteractive(key) {\n",
              "        const element = document.querySelector('#df-73f855b2-147d-4c1b-ba91-4e1838041be0');\n",
              "        const dataTable =\n",
              "          await google.colab.kernel.invokeFunction('convertToInteractive',\n",
              "                                                    [key], {});\n",
              "        if (!dataTable) return;\n",
              "\n",
              "        const docLinkHtml = 'Like what you see? Visit the ' +\n",
              "          '<a target=\"_blank\" href=https://colab.research.google.com/notebooks/data_table.ipynb>data table notebook</a>'\n",
              "          + ' to learn more about interactive tables.';\n",
              "        element.innerHTML = '';\n",
              "        dataTable['output_type'] = 'display_data';\n",
              "        await google.colab.output.renderOutput(dataTable, element);\n",
              "        const docLink = document.createElement('div');\n",
              "        docLink.innerHTML = docLinkHtml;\n",
              "        element.appendChild(docLink);\n",
              "      }\n",
              "    </script>\n",
              "  </div>\n",
              "\n",
              "\n",
              "<div id=\"df-637e560f-11e4-434f-bb18-948b6c84ab34\">\n",
              "  <button class=\"colab-df-quickchart\" onclick=\"quickchart('df-637e560f-11e4-434f-bb18-948b6c84ab34')\"\n",
              "            title=\"Suggest charts\"\n",
              "            style=\"display:none;\">\n",
              "\n",
              "<svg xmlns=\"http://www.w3.org/2000/svg\" height=\"24px\"viewBox=\"0 0 24 24\"\n",
              "     width=\"24px\">\n",
              "    <g>\n",
              "        <path d=\"M19 3H5c-1.1 0-2 .9-2 2v14c0 1.1.9 2 2 2h14c1.1 0 2-.9 2-2V5c0-1.1-.9-2-2-2zM9 17H7v-7h2v7zm4 0h-2V7h2v10zm4 0h-2v-4h2v4z\"/>\n",
              "    </g>\n",
              "</svg>\n",
              "  </button>\n",
              "\n",
              "<style>\n",
              "  .colab-df-quickchart {\n",
              "      --bg-color: #E8F0FE;\n",
              "      --fill-color: #1967D2;\n",
              "      --hover-bg-color: #E2EBFA;\n",
              "      --hover-fill-color: #174EA6;\n",
              "      --disabled-fill-color: #AAA;\n",
              "      --disabled-bg-color: #DDD;\n",
              "  }\n",
              "\n",
              "  [theme=dark] .colab-df-quickchart {\n",
              "      --bg-color: #3B4455;\n",
              "      --fill-color: #D2E3FC;\n",
              "      --hover-bg-color: #434B5C;\n",
              "      --hover-fill-color: #FFFFFF;\n",
              "      --disabled-bg-color: #3B4455;\n",
              "      --disabled-fill-color: #666;\n",
              "  }\n",
              "\n",
              "  .colab-df-quickchart {\n",
              "    background-color: var(--bg-color);\n",
              "    border: none;\n",
              "    border-radius: 50%;\n",
              "    cursor: pointer;\n",
              "    display: none;\n",
              "    fill: var(--fill-color);\n",
              "    height: 32px;\n",
              "    padding: 0;\n",
              "    width: 32px;\n",
              "  }\n",
              "\n",
              "  .colab-df-quickchart:hover {\n",
              "    background-color: var(--hover-bg-color);\n",
              "    box-shadow: 0 1px 2px rgba(60, 64, 67, 0.3), 0 1px 3px 1px rgba(60, 64, 67, 0.15);\n",
              "    fill: var(--button-hover-fill-color);\n",
              "  }\n",
              "\n",
              "  .colab-df-quickchart-complete:disabled,\n",
              "  .colab-df-quickchart-complete:disabled:hover {\n",
              "    background-color: var(--disabled-bg-color);\n",
              "    fill: var(--disabled-fill-color);\n",
              "    box-shadow: none;\n",
              "  }\n",
              "\n",
              "  .colab-df-spinner {\n",
              "    border: 2px solid var(--fill-color);\n",
              "    border-color: transparent;\n",
              "    border-bottom-color: var(--fill-color);\n",
              "    animation:\n",
              "      spin 1s steps(1) infinite;\n",
              "  }\n",
              "\n",
              "  @keyframes spin {\n",
              "    0% {\n",
              "      border-color: transparent;\n",
              "      border-bottom-color: var(--fill-color);\n",
              "      border-left-color: var(--fill-color);\n",
              "    }\n",
              "    20% {\n",
              "      border-color: transparent;\n",
              "      border-left-color: var(--fill-color);\n",
              "      border-top-color: var(--fill-color);\n",
              "    }\n",
              "    30% {\n",
              "      border-color: transparent;\n",
              "      border-left-color: var(--fill-color);\n",
              "      border-top-color: var(--fill-color);\n",
              "      border-right-color: var(--fill-color);\n",
              "    }\n",
              "    40% {\n",
              "      border-color: transparent;\n",
              "      border-right-color: var(--fill-color);\n",
              "      border-top-color: var(--fill-color);\n",
              "    }\n",
              "    60% {\n",
              "      border-color: transparent;\n",
              "      border-right-color: var(--fill-color);\n",
              "    }\n",
              "    80% {\n",
              "      border-color: transparent;\n",
              "      border-right-color: var(--fill-color);\n",
              "      border-bottom-color: var(--fill-color);\n",
              "    }\n",
              "    90% {\n",
              "      border-color: transparent;\n",
              "      border-bottom-color: var(--fill-color);\n",
              "    }\n",
              "  }\n",
              "</style>\n",
              "\n",
              "  <script>\n",
              "    async function quickchart(key) {\n",
              "      const quickchartButtonEl =\n",
              "        document.querySelector('#' + key + ' button');\n",
              "      quickchartButtonEl.disabled = true;  // To prevent multiple clicks.\n",
              "      quickchartButtonEl.classList.add('colab-df-spinner');\n",
              "      try {\n",
              "        const charts = await google.colab.kernel.invokeFunction(\n",
              "            'suggestCharts', [key], {});\n",
              "      } catch (error) {\n",
              "        console.error('Error during call to suggestCharts:', error);\n",
              "      }\n",
              "      quickchartButtonEl.classList.remove('colab-df-spinner');\n",
              "      quickchartButtonEl.classList.add('colab-df-quickchart-complete');\n",
              "    }\n",
              "    (() => {\n",
              "      let quickchartButtonEl =\n",
              "        document.querySelector('#df-637e560f-11e4-434f-bb18-948b6c84ab34 button');\n",
              "      quickchartButtonEl.style.display =\n",
              "        google.colab.kernel.accessAllowed ? 'block' : 'none';\n",
              "    })();\n",
              "  </script>\n",
              "</div>\n",
              "    </div>\n",
              "  </div>\n"
            ]
          },
          "metadata": {},
          "execution_count": 8
        }
      ]
    },
    {
      "cell_type": "markdown",
      "source": [
        "Drawing the clusters"
      ],
      "metadata": {
        "id": "I5ZoLD42AKZp"
      }
    },
    {
      "cell_type": "code",
      "source": [
        "df0 = df[df.cluster==0]\n",
        "df1 = df[df.cluster==1]\n",
        "df2 = df[df.cluster==2]\n",
        "plt.scatter(df0['age'],df0['annual_income($)'],color='#e41a1c',label='cluster 0')\n",
        "plt.scatter(df1['age'],df1['annual_income($)'],color='#377eb8',label='cluster 1')\n",
        "plt.scatter(df2['age'],df2['annual_income($)'],color='#4daf4a',label='cluster 2')\n",
        "plt.xlabel('age')\n",
        "plt.ylabel('annual_income($)')\n",
        "plt.legend()"
      ],
      "metadata": {
        "colab": {
          "base_uri": "https://localhost:8080/",
          "height": 471
        },
        "id": "JaBrDvH-ANcr",
        "outputId": "55a5f504-ebc4-4c65-9f33-e2b042f3ba30"
      },
      "execution_count": null,
      "outputs": [
        {
          "output_type": "execute_result",
          "data": {
            "text/plain": [
              "<matplotlib.legend.Legend at 0x7fa35ccb18a0>"
            ]
          },
          "metadata": {},
          "execution_count": 10
        },
        {
          "output_type": "display_data",
          "data": {
            "text/plain": [
              "<Figure size 640x480 with 1 Axes>"
            ],
            "image/png": "[encoded data removed]"
          },
          "metadata": {}
        }
      ]
    },
    {
      "cell_type": "markdown",
      "source": [
        "**Question 3**: What do you think about the clusters? Do they make sense?\n",
        "\n",
        "The groups seem to make sense for the most part. Initially, there is a clear trend of increasing income with age, starting from a low point in the 20s and reaching a maximum in the 40-50 age range. However, there is an anomaly in the 60-70 age range where income falls to a level similar to that in the 30-40 age range. This inconsistency raises questions about the grouping. There are likely distinct subgroups within these age ranges, suggesting the need for more nuanced analysis to accurately identify and separate these groups."
      ],
      "metadata": {
        "id": "f2kTnBgLCWM2"
      }
    },
    {
      "cell_type": "markdown",
      "source": [
        "Normalizing the dataset"
      ],
      "metadata": {
        "id": "fGPEyblGCjx2"
      }
    },
    {
      "cell_type": "code",
      "source": [
        "scaler = MinMaxScaler()\n",
        "\n",
        "scaler.fit(df[['annual_income($)']])\n",
        "df['norm_annual_income($)'] = scaler.transform(df[['annual_income($)']])\n",
        "\n",
        "scaler.fit(df[['age']])\n",
        "df['norm_age'] = scaler.transform(df[['age']])"
      ],
      "metadata": {
        "id": "XB40fyDaCp2q"
      },
      "execution_count": null,
      "outputs": []
    },
    {
      "cell_type": "markdown",
      "source": [
        "**Question 4**: What does the MinMaxScaler function?\n",
        "\n",
        "Basically, it transforms the values of one or more characteristics to a specific range. In this case, the purpose of scaling is to normalize the ranges of different characteristics, thus contributing equally to the analysis.\n",
        "\n"
      ],
      "metadata": {
        "id": "Rm7A0acIEPtM"
      }
    },
    {
      "cell_type": "markdown",
      "source": [
        "Obtaining the *k* value from the normalized values"
      ],
      "metadata": {
        "id": "9Zgm9ECFFXx7"
      }
    },
    {
      "cell_type": "code",
      "source": [
        "norm_sse = []\n",
        "k_range = range(1,11)\n",
        "for k in k_range:\n",
        "  km = KMeans(n_clusters=k)\n",
        "  km.fit(df[['norm_age','norm_annual_income($)']])\n",
        "  norm_sse.append(km.inertia_)\n"
      ],
      "metadata": {
        "id": "ig4GxNAtFeET",
        "colab": {
          "base_uri": "https://localhost:8080/"
        },
        "outputId": "4b149188-9654-4855-f9ed-2d45e862800e"
      },
      "execution_count": null,
      "outputs": [
        {
          "output_type": "stream",
          "name": "stderr",
          "text": [
            "/usr/local/lib/python3.10/dist-packages/sklearn/cluster/_kmeans.py:870: FutureWarning: The default value of `n_init` will change from 10 to 'auto' in 1.4. Set the value of `n_init` explicitly to suppress the warning\n",
            "  warnings.warn(\n",
            "/usr/local/lib/python3.10/dist-packages/sklearn/cluster/_kmeans.py:870: FutureWarning: The default value of `n_init` will change from 10 to 'auto' in 1.4. Set the value of `n_init` explicitly to suppress the warning\n",
            "  warnings.warn(\n",
            "/usr/local/lib/python3.10/dist-packages/sklearn/cluster/_kmeans.py:870: FutureWarning: The default value of `n_init` will change from 10 to 'auto' in 1.4. Set the value of `n_init` explicitly to suppress the warning\n",
            "  warnings.warn(\n",
            "/usr/local/lib/python3.10/dist-packages/sklearn/cluster/_kmeans.py:870: FutureWarning: The default value of `n_init` will change from 10 to 'auto' in 1.4. Set the value of `n_init` explicitly to suppress the warning\n",
            "  warnings.warn(\n",
            "/usr/local/lib/python3.10/dist-packages/sklearn/cluster/_kmeans.py:870: FutureWarning: The default value of `n_init` will change from 10 to 'auto' in 1.4. Set the value of `n_init` explicitly to suppress the warning\n",
            "  warnings.warn(\n",
            "/usr/local/lib/python3.10/dist-packages/sklearn/cluster/_kmeans.py:870: FutureWarning: The default value of `n_init` will change from 10 to 'auto' in 1.4. Set the value of `n_init` explicitly to suppress the warning\n",
            "  warnings.warn(\n",
            "/usr/local/lib/python3.10/dist-packages/sklearn/cluster/_kmeans.py:870: FutureWarning: The default value of `n_init` will change from 10 to 'auto' in 1.4. Set the value of `n_init` explicitly to suppress the warning\n",
            "  warnings.warn(\n",
            "/usr/local/lib/python3.10/dist-packages/sklearn/cluster/_kmeans.py:870: FutureWarning: The default value of `n_init` will change from 10 to 'auto' in 1.4. Set the value of `n_init` explicitly to suppress the warning\n",
            "  warnings.warn(\n",
            "/usr/local/lib/python3.10/dist-packages/sklearn/cluster/_kmeans.py:870: FutureWarning: The default value of `n_init` will change from 10 to 'auto' in 1.4. Set the value of `n_init` explicitly to suppress the warning\n",
            "  warnings.warn(\n",
            "/usr/local/lib/python3.10/dist-packages/sklearn/cluster/_kmeans.py:870: FutureWarning: The default value of `n_init` will change from 10 to 'auto' in 1.4. Set the value of `n_init` explicitly to suppress the warning\n",
            "  warnings.warn(\n"
          ]
        }
      ]
    },
    {
      "cell_type": "markdown",
      "source": [
        "Visualizing the Elbow plot from the normalized values"
      ],
      "metadata": {
        "id": "SxXg9yNsF32h"
      }
    },
    {
      "cell_type": "code",
      "source": [
        "plt.plot(k_range,norm_sse)\n",
        "plt.xlabel('K value')\n",
        "plt.ylabel('Sum of Squared Error (SSE)')"
      ],
      "metadata": {
        "colab": {
          "base_uri": "https://localhost:8080/",
          "height": 466
        },
        "id": "fthL8GzrF8Bf",
        "outputId": "b194475c-89ce-4824-bb8c-582ad539afb6"
      },
      "execution_count": null,
      "outputs": [
        {
          "output_type": "execute_result",
          "data": {
            "text/plain": [
              "Text(0, 0.5, 'Sum of Squared Error (SSE)')"
            ]
          },
          "metadata": {},
          "execution_count": 14
        },
        {
          "output_type": "display_data",
          "data": {
            "text/plain": [
              "<Figure size 640x480 with 1 Axes>"
            ],
            "image/png": "[encoded data removed]"
          },
          "metadata": {}
        }
      ]
    },
    {
      "cell_type": "markdown",
      "source": [
        "Clustering normalized values"
      ],
      "metadata": {
        "id": "mtsRWxnbGl4R"
      }
    },
    {
      "cell_type": "code",
      "source": [
        "k = 4\n",
        "clustering = KMeans(n_clusters=k)\n",
        "norm_cluster =  clustering.fit_predict(df[['norm_age','norm_annual_income($)']])\n",
        "norm_cluster"
      ],
      "metadata": {
        "colab": {
          "base_uri": "https://localhost:8080/"
        },
        "id": "HfWMDZTrGlYP",
        "outputId": "e6eb91a3-1c96-4541-8ba2-c327427bdc90"
      },
      "execution_count": null,
      "outputs": [
        {
          "output_type": "stream",
          "name": "stderr",
          "text": [
            "/usr/local/lib/python3.10/dist-packages/sklearn/cluster/_kmeans.py:870: FutureWarning: The default value of `n_init` will change from 10 to 'auto' in 1.4. Set the value of `n_init` explicitly to suppress the warning\n",
            "  warnings.warn(\n"
          ]
        },
        {
          "output_type": "execute_result",
          "data": {
            "text/plain": [
              "array([3, 3, 3, 3, 3, 3, 3, 3, 3, 3, 3, 3, 3, 3, 3, 3, 3, 3, 3, 3, 3, 3,\n",
              "       3, 3, 3, 3, 3, 3, 3, 3, 0, 0, 0, 0, 0, 0, 0, 0, 0, 0, 0, 0, 0, 0,\n",
              "       0, 0, 0, 0, 0, 0, 0, 0, 0, 0, 0, 0, 0, 0, 0, 0, 1, 1, 1, 1, 1, 1,\n",
              "       1, 1, 1, 1, 1, 1, 1, 1, 1, 1, 1, 1, 1, 1, 1, 1, 1, 1, 1, 1, 1, 1,\n",
              "       1, 1, 1, 1, 1, 1, 1, 2, 1, 1, 1, 1, 1, 1, 1, 1, 2, 1, 1, 1, 1, 2,\n",
              "       2, 1, 1, 1, 1, 1, 1, 1, 1, 1, 2, 2, 2, 2, 2, 2, 2, 2, 2, 2, 2, 2,\n",
              "       2, 2, 2, 2, 2, 2, 2, 2, 2, 2, 2, 2, 2, 2, 2, 2, 2, 2], dtype=int32)"
            ]
          },
          "metadata": {},
          "execution_count": 15
        }
      ]
    },
    {
      "cell_type": "markdown",
      "source": [
        "Adding the normalized values to the dataset"
      ],
      "metadata": {
        "id": "86sYDN9uHDQx"
      }
    },
    {
      "cell_type": "code",
      "source": [
        "df['norm_cluster'] = norm_cluster\n",
        "df.info()\n",
        "df.head()"
      ],
      "metadata": {
        "colab": {
          "base_uri": "https://localhost:8080/",
          "height": 432
        },
        "id": "-_TeYtRmHF5i",
        "outputId": "166fb287-09b9-4b0d-e6f5-81f940929cfa"
      },
      "execution_count": null,
      "outputs": [
        {
          "output_type": "stream",
          "name": "stdout",
          "text": [
            "<class 'pandas.core.frame.DataFrame'>\n",
            "RangeIndex: 150 entries, 0 to 149\n",
            "Data columns (total 6 columns):\n",
            " #   Column                 Non-Null Count  Dtype  \n",
            "---  ------                 --------------  -----  \n",
            " 0   age                    150 non-null    int64  \n",
            " 1   annual_income($)       150 non-null    int64  \n",
            " 2   cluster                150 non-null    int32  \n",
            " 3   norm_annual_income($)  150 non-null    float64\n",
            " 4   norm_age               150 non-null    float64\n",
            " 5   norm_cluster           150 non-null    int32  \n",
            "dtypes: float64(2), int32(2), int64(2)\n",
            "memory usage: 6.0 KB\n"
          ]
        },
        {
          "output_type": "execute_result",
          "data": {
            "text/plain": [
              "   age  annual_income($)  cluster  norm_annual_income($)  norm_age  \\\n",
              "0   17             17123        2               0.001632  0.016949   \n",
              "1   17             18375        2               0.121855  0.016949   \n",
              "2   16             18557        2               0.139332  0.000000   \n",
              "3   23             17721        2               0.059055  0.118644   \n",
              "4   22             17291        2               0.017765  0.101695   \n",
              "\n",
              "   norm_cluster  \n",
              "0             3  \n",
              "1             3  \n",
              "2             3  \n",
              "3             3  \n",
              "4             3  "
            ],
            "text/html": [
              "\n",
              "  <div id=\"df-73aaf288-92c3-4bdd-93a1-6c6569e871ca\" class=\"colab-df-container\">\n",
              "    <div>\n",
              "<style scoped>\n",
              "    .dataframe tbody tr th:only-of-type {\n",
              "        vertical-align: middle;\n",
              "    }\n",
              "\n",
              "    .dataframe tbody tr th {\n",
              "        vertical-align: top;\n",
              "    }\n",
              "\n",
              "    .dataframe thead th {\n",
              "        text-align: right;\n",
              "    }\n",
              "</style>\n",
              "<table border=\"1\" class=\"dataframe\">\n",
              "  <thead>\n",
              "    <tr style=\"text-align: right;\">\n",
              "      <th></th>\n",
              "      <th>age</th>\n",
              "      <th>annual_income($)</th>\n",
              "      <th>cluster</th>\n",
              "      <th>norm_annual_income($)</th>\n",
              "      <th>norm_age</th>\n",
              "      <th>norm_cluster</th>\n",
              "    </tr>\n",
              "  </thead>\n",
              "  <tbody>\n",
              "    <tr>\n",
              "      <th>0</th>\n",
              "      <td>17</td>\n",
              "      <td>17123</td>\n",
              "      <td>2</td>\n",
              "      <td>0.001632</td>\n",
              "      <td>0.016949</td>\n",
              "      <td>3</td>\n",
              "    </tr>\n",
              "    <tr>\n",
              "      <th>1</th>\n",
              "      <td>17</td>\n",
              "      <td>18375</td>\n",
              "      <td>2</td>\n",
              "      <td>0.121855</td>\n",
              "      <td>0.016949</td>\n",
              "      <td>3</td>\n",
              "    </tr>\n",
              "    <tr>\n",
              "      <th>2</th>\n",
              "      <td>16</td>\n",
              "      <td>18557</td>\n",
              "      <td>2</td>\n",
              "      <td>0.139332</td>\n",
              "      <td>0.000000</td>\n",
              "      <td>3</td>\n",
              "    </tr>\n",
              "    <tr>\n",
              "      <th>3</th>\n",
              "      <td>23</td>\n",
              "      <td>17721</td>\n",
              "      <td>2</td>\n",
              "      <td>0.059055</td>\n",
              "      <td>0.118644</td>\n",
              "      <td>3</td>\n",
              "    </tr>\n",
              "    <tr>\n",
              "      <th>4</th>\n",
              "      <td>22</td>\n",
              "      <td>17291</td>\n",
              "      <td>2</td>\n",
              "      <td>0.017765</td>\n",
              "      <td>0.101695</td>\n",
              "      <td>3</td>\n",
              "    </tr>\n",
              "  </tbody>\n",
              "</table>\n",
              "</div>\n",
              "    <div class=\"colab-df-buttons\">\n",
              "\n",
              "  <div class=\"colab-df-container\">\n",
              "    <button class=\"colab-df-convert\" onclick=\"convertToInteractive('df-73aaf288-92c3-4bdd-93a1-6c6569e871ca')\"\n",
              "            title=\"Convert this dataframe to an interactive table.\"\n",
              "            style=\"display:none;\">\n",
              "\n",
              "  <svg xmlns=\"http://www.w3.org/2000/svg\" height=\"24px\" viewBox=\"0 -960 960 960\">\n",
              "    <path d=\"M120-120v-720h720v720H120Zm60-500h600v-160H180v160Zm220 220h160v-160H400v160Zm0 220h160v-160H400v160ZM180-400h160v-160H180v160Zm440 0h160v-160H620v160ZM180-180h160v-160H180v160Zm440 0h160v-160H620v160Z\"/>\n",
              "  </svg>\n",
              "    </button>\n",
              "\n",
              "  <style>\n",
              "    .colab-df-container {\n",
              "      display:flex;\n",
              "      gap: 12px;\n",
              "    }\n",
              "\n",
              "    .colab-df-convert {\n",
              "      background-color: #E8F0FE;\n",
              "      border: none;\n",
              "      border-radius: 50%;\n",
              "      cursor: pointer;\n",
              "      display: none;\n",
              "      fill: #1967D2;\n",
              "      height: 32px;\n",
              "      padding: 0 0 0 0;\n",
              "      width: 32px;\n",
              "    }\n",
              "\n",
              "    .colab-df-convert:hover {\n",
              "      background-color: #E2EBFA;\n",
              "      box-shadow: 0px 1px 2px rgba(60, 64, 67, 0.3), 0px 1px 3px 1px rgba(60, 64, 67, 0.15);\n",
              "      fill: #174EA6;\n",
              "    }\n",
              "\n",
              "    .colab-df-buttons div {\n",
              "      margin-bottom: 4px;\n",
              "    }\n",
              "\n",
              "    [theme=dark] .colab-df-convert {\n",
              "      background-color: #3B4455;\n",
              "      fill: #D2E3FC;\n",
              "    }\n",
              "\n",
              "    [theme=dark] .colab-df-convert:hover {\n",
              "      background-color: #434B5C;\n",
              "      box-shadow: 0px 1px 3px 1px rgba(0, 0, 0, 0.15);\n",
              "      filter: drop-shadow(0px 1px 2px rgba(0, 0, 0, 0.3));\n",
              "      fill: #FFFFFF;\n",
              "    }\n",
              "  </style>\n",
              "\n",
              "    <script>\n",
              "      const buttonEl =\n",
              "        document.querySelector('#df-73aaf288-92c3-4bdd-93a1-6c6569e871ca button.colab-df-convert');\n",
              "      buttonEl.style.display =\n",
              "        google.colab.kernel.accessAllowed ? 'block' : 'none';\n",
              "\n",
              "      async function convertToInteractive(key) {\n",
              "        const element = document.querySelector('#df-73aaf288-92c3-4bdd-93a1-6c6569e871ca');\n",
              "        const dataTable =\n",
              "          await google.colab.kernel.invokeFunction('convertToInteractive',\n",
              "                                                    [key], {});\n",
              "        if (!dataTable) return;\n",
              "\n",
              "        const docLinkHtml = 'Like what you see? Visit the ' +\n",
              "          '<a target=\"_blank\" href=https://colab.research.google.com/notebooks/data_table.ipynb>data table notebook</a>'\n",
              "          + ' to learn more about interactive tables.';\n",
              "        element.innerHTML = '';\n",
              "        dataTable['output_type'] = 'display_data';\n",
              "        await google.colab.output.renderOutput(dataTable, element);\n",
              "        const docLink = document.createElement('div');\n",
              "        docLink.innerHTML = docLinkHtml;\n",
              "        element.appendChild(docLink);\n",
              "      }\n",
              "    </script>\n",
              "  </div>\n",
              "\n",
              "\n",
              "<div id=\"df-3a64b52b-15c0-4760-ae15-b7c3c804d71e\">\n",
              "  <button class=\"colab-df-quickchart\" onclick=\"quickchart('df-3a64b52b-15c0-4760-ae15-b7c3c804d71e')\"\n",
              "            title=\"Suggest charts\"\n",
              "            style=\"display:none;\">\n",
              "\n",
              "<svg xmlns=\"http://www.w3.org/2000/svg\" height=\"24px\"viewBox=\"0 0 24 24\"\n",
              "     width=\"24px\">\n",
              "    <g>\n",
              "        <path d=\"M19 3H5c-1.1 0-2 .9-2 2v14c0 1.1.9 2 2 2h14c1.1 0 2-.9 2-2V5c0-1.1-.9-2-2-2zM9 17H7v-7h2v7zm4 0h-2V7h2v10zm4 0h-2v-4h2v4z\"/>\n",
              "    </g>\n",
              "</svg>\n",
              "  </button>\n",
              "\n",
              "<style>\n",
              "  .colab-df-quickchart {\n",
              "      --bg-color: #E8F0FE;\n",
              "      --fill-color: #1967D2;\n",
              "      --hover-bg-color: #E2EBFA;\n",
              "      --hover-fill-color: #174EA6;\n",
              "      --disabled-fill-color: #AAA;\n",
              "      --disabled-bg-color: #DDD;\n",
              "  }\n",
              "\n",
              "  [theme=dark] .colab-df-quickchart {\n",
              "      --bg-color: #3B4455;\n",
              "      --fill-color: #D2E3FC;\n",
              "      --hover-bg-color: #434B5C;\n",
              "      --hover-fill-color: #FFFFFF;\n",
              "      --disabled-bg-color: #3B4455;\n",
              "      --disabled-fill-color: #666;\n",
              "  }\n",
              "\n",
              "  .colab-df-quickchart {\n",
              "    background-color: var(--bg-color);\n",
              "    border: none;\n",
              "    border-radius: 50%;\n",
              "    cursor: pointer;\n",
              "    display: none;\n",
              "    fill: var(--fill-color);\n",
              "    height: 32px;\n",
              "    padding: 0;\n",
              "    width: 32px;\n",
              "  }\n",
              "\n",
              "  .colab-df-quickchart:hover {\n",
              "    background-color: var(--hover-bg-color);\n",
              "    box-shadow: 0 1px 2px rgba(60, 64, 67, 0.3), 0 1px 3px 1px rgba(60, 64, 67, 0.15);\n",
              "    fill: var(--button-hover-fill-color);\n",
              "  }\n",
              "\n",
              "  .colab-df-quickchart-complete:disabled,\n",
              "  .colab-df-quickchart-complete:disabled:hover {\n",
              "    background-color: var(--disabled-bg-color);\n",
              "    fill: var(--disabled-fill-color);\n",
              "    box-shadow: none;\n",
              "  }\n",
              "\n",
              "  .colab-df-spinner {\n",
              "    border: 2px solid var(--fill-color);\n",
              "    border-color: transparent;\n",
              "    border-bottom-color: var(--fill-color);\n",
              "    animation:\n",
              "      spin 1s steps(1) infinite;\n",
              "  }\n",
              "\n",
              "  @keyframes spin {\n",
              "    0% {\n",
              "      border-color: transparent;\n",
              "      border-bottom-color: var(--fill-color);\n",
              "      border-left-color: var(--fill-color);\n",
              "    }\n",
              "    20% {\n",
              "      border-color: transparent;\n",
              "      border-left-color: var(--fill-color);\n",
              "      border-top-color: var(--fill-color);\n",
              "    }\n",
              "    30% {\n",
              "      border-color: transparent;\n",
              "      border-left-color: var(--fill-color);\n",
              "      border-top-color: var(--fill-color);\n",
              "      border-right-color: var(--fill-color);\n",
              "    }\n",
              "    40% {\n",
              "      border-color: transparent;\n",
              "      border-right-color: var(--fill-color);\n",
              "      border-top-color: var(--fill-color);\n",
              "    }\n",
              "    60% {\n",
              "      border-color: transparent;\n",
              "      border-right-color: var(--fill-color);\n",
              "    }\n",
              "    80% {\n",
              "      border-color: transparent;\n",
              "      border-right-color: var(--fill-color);\n",
              "      border-bottom-color: var(--fill-color);\n",
              "    }\n",
              "    90% {\n",
              "      border-color: transparent;\n",
              "      border-bottom-color: var(--fill-color);\n",
              "    }\n",
              "  }\n",
              "</style>\n",
              "\n",
              "  <script>\n",
              "    async function quickchart(key) {\n",
              "      const quickchartButtonEl =\n",
              "        document.querySelector('#' + key + ' button');\n",
              "      quickchartButtonEl.disabled = true;  // To prevent multiple clicks.\n",
              "      quickchartButtonEl.classList.add('colab-df-spinner');\n",
              "      try {\n",
              "        const charts = await google.colab.kernel.invokeFunction(\n",
              "            'suggestCharts', [key], {});\n",
              "      } catch (error) {\n",
              "        console.error('Error during call to suggestCharts:', error);\n",
              "      }\n",
              "      quickchartButtonEl.classList.remove('colab-df-spinner');\n",
              "      quickchartButtonEl.classList.add('colab-df-quickchart-complete');\n",
              "    }\n",
              "    (() => {\n",
              "      let quickchartButtonEl =\n",
              "        document.querySelector('#df-3a64b52b-15c0-4760-ae15-b7c3c804d71e button');\n",
              "      quickchartButtonEl.style.display =\n",
              "        google.colab.kernel.accessAllowed ? 'block' : 'none';\n",
              "    })();\n",
              "  </script>\n",
              "</div>\n",
              "    </div>\n",
              "  </div>\n"
            ]
          },
          "metadata": {},
          "execution_count": 16
        }
      ]
    },
    {
      "cell_type": "markdown",
      "source": [
        "Visualizing the normalized clusters"
      ],
      "metadata": {
        "id": "--TEBHU8HaLK"
      }
    },
    {
      "cell_type": "code",
      "source": [
        "df0 = df[df.norm_cluster==0]\n",
        "df1 = df[df.norm_cluster==1]\n",
        "df2 = df[df.norm_cluster==2]\n",
        "df3 = df[df.norm_cluster==3]\n",
        "plt.scatter(df0['age'],df0['annual_income($)'],color='#e41a1c',label='cluster 0')\n",
        "plt.scatter(df1['age'],df1['annual_income($)'],color='#377eb8',label='cluster 1')\n",
        "plt.scatter(df2['age'],df2['annual_income($)'],color='#4daf4a',label='cluster 2')\n",
        "plt.scatter(df3['age'],df3['annual_income($)'],color='#984ea3',label='cluster 3')\n",
        "plt.xlabel('norm_age')\n",
        "plt.ylabel('norm_annual_income($)')\n",
        "plt.legend()"
      ],
      "metadata": {
        "colab": {
          "base_uri": "https://localhost:8080/",
          "height": 471
        },
        "id": "2gkQgSCsHdXc",
        "outputId": "ea2d5701-4929-4f84-fd46-35db06858b46"
      },
      "execution_count": null,
      "outputs": [
        {
          "output_type": "execute_result",
          "data": {
            "text/plain": [
              "<matplotlib.legend.Legend at 0x7fa35cc718d0>"
            ]
          },
          "metadata": {},
          "execution_count": 17
        },
        {
          "output_type": "display_data",
          "data": {
            "text/plain": [
              "<Figure size 640x480 with 1 Axes>"
            ],
            "image/png": "[encoded data removed]"
          },
          "metadata": {}
        }
      ]
    },
    {
      "cell_type": "markdown",
      "source": [
        "**Question 5**: Why are the clusters different before the normalization process?\n",
        "\n",
        "They are different because the normalization given by the MinMaxScaler helps scale all characteristics to a common range, thus mitigating the impact of differences in the original magnitudes of age and income, facilitating a more equitable comparison and grouping process. This is why the analysis looks fairer and therefore prevents features with larger scales from dominating the grouping results."
      ],
      "metadata": {
        "id": "U0ExXrD9IV0d"
      }
    },
    {
      "cell_type": "markdown",
      "source": [
        "# Hierarchical clustering"
      ],
      "metadata": {
        "id": "N_rpKQ27IZgU"
      }
    },
    {
      "cell_type": "markdown",
      "source": [
        "Importing libraries"
      ],
      "metadata": {
        "id": "pOXwAVUTORlv"
      }
    },
    {
      "cell_type": "code",
      "source": [
        "import numpy as np\n",
        "from scipy import ndimage\n",
        "from scipy.cluster import hierarchy\n",
        "from scipy.spatial import distance_matrix\n",
        "import matplotlib.pyplot as plt\n",
        "from sklearn.cluster import AgglomerativeClustering\n",
        "from sklearn.datasets import make_blobs"
      ],
      "metadata": {
        "id": "uMOqaJYzOSC5"
      },
      "execution_count": null,
      "outputs": []
    },
    {
      "cell_type": "markdown",
      "source": [
        "Generating a random dataset"
      ],
      "metadata": {
        "id": "fpwNW2TVOsxB"
      }
    },
    {
      "cell_type": "code",
      "source": [
        "X, y= make_blobs(n_samples=50,centers=4)\n",
        "# X: the generated samples\n",
        "# y: the integer labels for cluster memebership of each sample\n",
        "# centers: the number of centers to generate\n",
        "print(X)\n",
        "print(y)"
      ],
      "metadata": {
        "colab": {
          "base_uri": "https://localhost:8080/"
        },
        "id": "esYI9hPCPD8k",
        "outputId": "88f99576-6552-451f-a37a-5ce5dc896147"
      },
      "execution_count": null,
      "outputs": [
        {
          "output_type": "stream",
          "name": "stdout",
          "text": [
            "[[ 4.18556552  3.11135054]\n",
            " [-4.68633905 10.37863772]\n",
            " [ 3.76788112  1.12200561]\n",
            " [ 4.93925867  2.23957758]\n",
            " [ 5.34382554  2.36912293]\n",
            " [-6.50686488  6.08928605]\n",
            " [-9.5500651   4.74176709]\n",
            " [ 4.10604431  2.91498585]\n",
            " [-6.53671963  5.70957892]\n",
            " [-6.36616776  4.38206862]\n",
            " [-7.09427439  5.88405094]\n",
            " [ 3.61425782  3.10969268]\n",
            " [ 6.65294201  2.39060124]\n",
            " [ 5.16373506  4.33938685]\n",
            " [ 3.70107767  3.54034364]\n",
            " [ 4.29214729  2.80277426]\n",
            " [-4.42458488 10.146257  ]\n",
            " [-6.92063914  5.8687765 ]\n",
            " [-5.41897661  6.79147731]\n",
            " [ 4.41236777  3.34446562]\n",
            " [ 3.6449128   1.23324877]\n",
            " [-3.66177458  9.96728717]\n",
            " [ 2.50085964  1.83572679]\n",
            " [-4.80070688  9.56343175]\n",
            " [ 5.27924499  3.54159201]\n",
            " [-4.45919286  8.57912187]\n",
            " [-5.76102007  9.76733282]\n",
            " [-4.20025326  8.87222561]\n",
            " [ 5.38890739  3.91749805]\n",
            " [ 3.37659161  1.58239953]\n",
            " [-6.06865745  4.78739179]\n",
            " [-6.33560959  6.48585731]\n",
            " [ 2.25820527  5.20639624]\n",
            " [-4.49152648  9.86618017]\n",
            " [ 4.68441729  2.61461363]\n",
            " [ 3.8658496   1.86984481]\n",
            " [-3.60688884  9.91539806]\n",
            " [ 4.80576315  3.18859315]\n",
            " [ 5.1908247   1.60428992]\n",
            " [-6.93652937  5.86206808]\n",
            " [ 7.65232372  2.34557253]\n",
            " [-5.5628042   8.741646  ]\n",
            " [ 3.66263636  1.7439411 ]\n",
            " [ 4.01493397  2.20039366]\n",
            " [-4.20592957  8.47137826]\n",
            " [ 3.85502748  2.93901091]\n",
            " [-6.18241697  7.25889644]\n",
            " [-6.23568611  5.47246395]\n",
            " [-6.87815299  5.07355417]\n",
            " [ 4.22011066  3.68640949]]\n",
            "[1 3 0 0 1 2 2 0 2 2 2 0 1 0 0 0 3 2 3 1 1 3 0 3 1 3 3 3 1 1 2 2 0 3 1 1 3\n",
            " 0 0 2 1 3 1 1 3 0 2 2 2 0]\n"
          ]
        }
      ]
    },
    {
      "cell_type": "markdown",
      "source": [
        "Visualizing the blobs"
      ],
      "metadata": {
        "id": "JaYJVe73Pm-W"
      }
    },
    {
      "cell_type": "code",
      "source": [
        "plt.scatter(X[:,0],X[:,1])"
      ],
      "metadata": {
        "colab": {
          "base_uri": "https://localhost:8080/",
          "height": 447
        },
        "id": "GEDr3C4-QEl_",
        "outputId": "c046d4b3-26e7-4f34-cb30-0a3dda79fac4"
      },
      "execution_count": null,
      "outputs": [
        {
          "output_type": "execute_result",
          "data": {
            "text/plain": [
              "<matplotlib.collections.PathCollection at 0x7fa39554f9d0>"
            ]
          },
          "metadata": {},
          "execution_count": 37
        },
        {
          "output_type": "display_data",
          "data": {
            "text/plain": [
              "<Figure size 640x480 with 1 Axes>"
            ],
            "image/png": "[encoded data removed]"
          },
          "metadata": {}
        }
      ]
    },
    {
      "cell_type": "markdown",
      "source": [
        "Identifying the clusters"
      ],
      "metadata": {
        "id": "Y2rvXlDVQmDI"
      }
    },
    {
      "cell_type": "code",
      "source": [
        "# Create a figure of size 6 inches by 4 inches\n",
        "plt.figure(figsize=(6,4))\n",
        "\n",
        "x_min, x_max = np.min(X, axis=0), np.max(X, axis=0)\n",
        "\n",
        "X = (X - x_min)/(x_max - x_min)\n",
        "\n",
        "for i in range(X.shape[0]):\n",
        "  plt.text(X[i,0],X[i,1],str(y[i]),color='red',fontdict={'weight':'bold','size':9})\n",
        "\n",
        "plt.xticks([])\n",
        "plt.yticks([])\n",
        "\n",
        "plt.scatter(X[:,0],X[:,1],marker='.')\n",
        "plt.show()\n"
      ],
      "metadata": {
        "colab": {
          "base_uri": "https://localhost:8080/",
          "height": 345
        },
        "id": "xXsdQlrjQ0z_",
        "outputId": "4e5d5f2c-63c9-4dc5-9455-2e822e6bc271"
      },
      "execution_count": null,
      "outputs": [
        {
          "output_type": "display_data",
          "data": {
            "text/plain": [
              "<Figure size 600x400 with 1 Axes>"
            ],
            "image/png": "[encoded data removed]"
          },
          "metadata": {}
        }
      ]
    },
    {
      "cell_type": "markdown",
      "source": [
        "Calculate the distance matrix"
      ],
      "metadata": {
        "id": "C4u3VUlmTGCo"
      }
    },
    {
      "cell_type": "code",
      "source": [
        "dist_matrix = distance_matrix(X,X)\n",
        "dist_matrix"
      ],
      "metadata": {
        "colab": {
          "base_uri": "https://localhost:8080/"
        },
        "id": "3STq7Z_yTIcb",
        "outputId": "25b6d7cb-c0e0-4398-c0f7-a72e29c1775b"
      },
      "execution_count": null,
      "outputs": [
        {
          "output_type": "execute_result",
          "data": {
            "text/plain": [
              "array([[0.        , 0.93933507, 0.21627749, ..., 0.65731181, 0.677183  ,\n",
              "        0.06215644],\n",
              "       [0.93933507, 0.        , 1.11423928, ..., 0.53761513, 0.587104  ,\n",
              "        0.88923525],\n",
              "       [0.21627749, 1.11423928, 0.        , ..., 0.7476976 , 0.7518199 ,\n",
              "        0.27827874],\n",
              "       ...,\n",
              "       [0.65731181, 0.53761513, 0.7476976 , ..., 0.        , 0.05702607,\n",
              "        0.6377014 ],\n",
              "       [0.677183  , 0.587104  , 0.7518199 , ..., 0.05702607, 0.        ,\n",
              "        0.66233336],\n",
              "       [0.06215644, 0.88923525, 0.27827874, ..., 0.6377014 , 0.66233336,\n",
              "        0.        ]])"
            ]
          },
          "metadata": {},
          "execution_count": 39
        }
      ]
    },
    {
      "cell_type": "markdown",
      "source": [
        "**Question 6**: Explain the structure of this matrix\n",
        "\n",
        "The structure is a pairwise distance matrix between points in the data set.\n",
        "\n",
        "Basically, it is a square matrix, it has the same number of rows and columns.\n",
        "The elements of the diagonal are what represent the distance of each point from itself. In fact, it can be seen that these values are always 0 since a point is at a distance of 0 from itself. It is symmetrical because the distance between point i and point j is the same as the distance between point j and point i. However, it should be noted that the non-diagonal elements contain the pairwise distances between the corresponding points.\n",
        "\n",
        "The values of the matrix are the distances calculated using a metric between each pair of points in your data set, if it is not specified as in this case, it is calculated by default by the Euclidean distance."
      ],
      "metadata": {
        "id": "jfpF2-XbgdKC"
      }
    },
    {
      "cell_type": "markdown",
      "source": [
        "Visualizing the dendogram"
      ],
      "metadata": {
        "id": "DtLqPeZTTjO3"
      }
    },
    {
      "cell_type": "code",
      "source": [
        "linkage_method = 'average'\n",
        "#complete\n",
        "#single\n",
        "#average\n",
        "\n",
        "Z = hierarchy.linkage(dist_matrix, method=linkage_method)\n",
        "dendo = hierarchy.dendrogram(Z)"
      ],
      "metadata": {
        "colab": {
          "base_uri": "https://localhost:8080/",
          "height": 465
        },
        "id": "UVZdkGh7WK7T",
        "outputId": "d764b647-b382-45b9-df9b-a99207ec5411"
      },
      "execution_count": null,
      "outputs": [
        {
          "output_type": "stream",
          "name": "stderr",
          "text": [
            "<ipython-input-40-0e939e40ceda>:5: ClusterWarning: scipy.cluster: The symmetric non-negative hollow observation matrix looks suspiciously like an uncondensed distance matrix\n",
            "  Z = hierarchy.linkage(dist_matrix, method=linkage_method)\n"
          ]
        },
        {
          "output_type": "display_data",
          "data": {
            "text/plain": [
              "<Figure size 640x480 with 1 Axes>"
            ],
            "image/png": "[encoded data removed]"
          },
          "metadata": {}
        }
      ]
    },
    {
      "cell_type": "markdown",
      "source": [
        "new one"
      ],
      "metadata": {
        "id": "FSAdKCkP1rMn"
      }
    },
    {
      "cell_type": "code",
      "source": [
        "linkage_method = 'average'\n",
        "Z = hierarchy.linkage(dist_matrix, method=linkage_method)\n",
        "dendo = hierarchy.dendrogram(Z, color_threshold=1.5)  # Adjust the threshold as needed"
      ],
      "metadata": {
        "colab": {
          "base_uri": "https://localhost:8080/",
          "height": 465
        },
        "id": "zg_90jQL1sNt",
        "outputId": "78142326-841d-447f-a4c7-4e0bf34cb9d8"
      },
      "execution_count": null,
      "outputs": [
        {
          "output_type": "stream",
          "name": "stderr",
          "text": [
            "<ipython-input-51-738b6bab505b>:2: ClusterWarning: scipy.cluster: The symmetric non-negative hollow observation matrix looks suspiciously like an uncondensed distance matrix\n",
            "  Z = hierarchy.linkage(dist_matrix, method=linkage_method)\n"
          ]
        },
        {
          "output_type": "display_data",
          "data": {
            "text/plain": [
              "<Figure size 640x480 with 1 Axes>"
            ],
            "image/png": "[encoded data removed]"
          },
          "metadata": {}
        }
      ]
    },
    {
      "cell_type": "code",
      "source": [
        "# sklearn method\n",
        "# linkage_method = 'average'\n",
        "# complete\n",
        "# single\n",
        "# average\n",
        "\n",
        "# hac = AgglomerativeClustering(n_clusters=4, linkage=linkage_method)"
      ],
      "metadata": {
        "id": "ZbZeQyIPQYI_"
      },
      "execution_count": null,
      "outputs": []
    },
    {
      "cell_type": "code",
      "source": [
        "linkage_method = 'complete'\n",
        "Z_complete = hierarchy.linkage(dist_matrix, method=linkage_method)\n",
        "dendo_complete = hierarchy.dendrogram(Z_complete)"
      ],
      "metadata": {
        "colab": {
          "base_uri": "https://localhost:8080/",
          "height": 465
        },
        "id": "CYpXkiuUz_t9",
        "outputId": "ef0f5658-80f8-4d95-be60-cddd51e63a66"
      },
      "execution_count": null,
      "outputs": [
        {
          "output_type": "stream",
          "name": "stderr",
          "text": [
            "<ipython-input-52-bb487d80650a>:2: ClusterWarning: scipy.cluster: The symmetric non-negative hollow observation matrix looks suspiciously like an uncondensed distance matrix\n",
            "  Z_complete = hierarchy.linkage(dist_matrix, method=linkage_method)\n"
          ]
        },
        {
          "output_type": "display_data",
          "data": {
            "text/plain": [
              "<Figure size 640x480 with 1 Axes>"
            ],
            "image/png": "[encoded data removed]"
          },
          "metadata": {}
        }
      ]
    },
    {
      "cell_type": "code",
      "source": [
        "linkage_method = 'complete'\n",
        "Z_complete = hierarchy.linkage(dist_matrix, method=linkage_method)\n",
        "dendo_complete = hierarchy.dendrogram(Z_complete, color_threshold=1.5)"
      ],
      "metadata": {
        "colab": {
          "base_uri": "https://localhost:8080/",
          "height": 465
        },
        "id": "vIp4kZE51Q99",
        "outputId": "c7f76fe6-3c18-418d-d927-7bc0880e4779"
      },
      "execution_count": null,
      "outputs": [
        {
          "output_type": "stream",
          "name": "stderr",
          "text": [
            "<ipython-input-54-cc9a0a2d8098>:2: ClusterWarning: scipy.cluster: The symmetric non-negative hollow observation matrix looks suspiciously like an uncondensed distance matrix\n",
            "  Z_complete = hierarchy.linkage(dist_matrix, method=linkage_method)\n"
          ]
        },
        {
          "output_type": "display_data",
          "data": {
            "text/plain": [
              "<Figure size 640x480 with 1 Axes>"
            ],
            "image/png": "[encoded data removed]"
          },
          "metadata": {}
        }
      ]
    },
    {
      "cell_type": "code",
      "source": [
        "linkage_method = 'single'\n",
        "Z_single = hierarchy.linkage(dist_matrix, method=linkage_method)\n",
        "dendo_single = hierarchy.dendrogram(Z_single)"
      ],
      "metadata": {
        "colab": {
          "base_uri": "https://localhost:8080/",
          "height": 465
        },
        "id": "xsFAbOoJ0LXX",
        "outputId": "9a6d8fe9-b8c3-46c2-878f-c0aa5e29e662"
      },
      "execution_count": null,
      "outputs": [
        {
          "output_type": "stream",
          "name": "stderr",
          "text": [
            "<ipython-input-43-1d851b02292f>:2: ClusterWarning: scipy.cluster: The symmetric non-negative hollow observation matrix looks suspiciously like an uncondensed distance matrix\n",
            "  Z_single = hierarchy.linkage(dist_matrix, method=linkage_method)\n"
          ]
        },
        {
          "output_type": "display_data",
          "data": {
            "text/plain": [
              "<Figure size 640x480 with 1 Axes>"
            ],
            "image/png": "[encoded data removed]"
          },
          "metadata": {}
        }
      ]
    },
    {
      "cell_type": "code",
      "source": [
        "linkage_method = 'single'\n",
        "Z_single = hierarchy.linkage(dist_matrix, method=linkage_method)\n",
        "dendo_single = hierarchy.dendrogram(Z_single, color_threshold=1.5)"
      ],
      "metadata": {
        "colab": {
          "base_uri": "https://localhost:8080/",
          "height": 465
        },
        "id": "TUhiBH0X1gWv",
        "outputId": "fb6469cb-bcfc-4ee0-e73a-52e491dda985"
      },
      "execution_count": null,
      "outputs": [
        {
          "output_type": "stream",
          "name": "stderr",
          "text": [
            "<ipython-input-55-ac2c4d95b21e>:2: ClusterWarning: scipy.cluster: The symmetric non-negative hollow observation matrix looks suspiciously like an uncondensed distance matrix\n",
            "  Z_single = hierarchy.linkage(dist_matrix, method=linkage_method)\n"
          ]
        },
        {
          "output_type": "display_data",
          "data": {
            "text/plain": [
              "<Figure size 640x480 with 1 Axes>"
            ],
            "image/png": "[encoded data removed]"
          },
          "metadata": {}
        }
      ]
    },
    {
      "cell_type": "markdown",
      "source": [
        "**Question 7**: How many clusters can you identify in the dendrogram. Is it easy to see?\n",
        "\n",
        "Two are directly seen by the dendrogram, however, there are really 4, so the identification is really ambiguous and is not as clear as it should be.\n",
        "\n",
        "**Question 8**: Explain the organization of the clusters?\n",
        "\n",
        "The organization of the clusters is ambiguous as I said, since there are 4 centers, however, each two centers are considered parts of a cluster because they are not really that far from each other, that is, they are not very marked, and it occupies every two groups a cluster with a certain color (orange for a pair, and green for the other pair), obtaining only two clusters. However, if it were more robust, a better interpretation could be handled\n",
        "\n",
        "**Question 9**: Use the complete, single, and average method. Do you see any difference between them? Discuss your answer.\n",
        "\n",
        "Not really, they all make the same mistake. And it is certainly frustrating because in the complete and single, you see more divisions but they still appear in the same cluster. I suppose the centers are very united. Something interesting is that if a color_threshold is applied, there is a change in what corresponds to a better grouping and you can see 3 clusters for the groupings that are least intertwined, so I understand that by modifying the code you can achieve better robustness ."
      ],
      "metadata": {
        "id": "A5nRxYq_tZAg"
      }
    }
  ]
}